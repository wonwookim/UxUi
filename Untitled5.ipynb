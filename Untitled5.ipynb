{
  "nbformat": 4,
  "nbformat_minor": 0,
  "metadata": {
    "colab": {
      "name": "Untitled5.ipynb",
      "private_outputs": true,
      "provenance": [],
      "mount_file_id": "1ql-jDs1AR8W7uEe1PvFNebqSfOrd-LKj",
      "authorship_tag": "ABX9TyOnNVosFf18tl4qqoIb77SM",
      "include_colab_link": true
    },
    "kernelspec": {
      "name": "python3",
      "display_name": "Python 3"
    },
    "language_info": {
      "name": "python"
    }
  },
  "cells": [
    {
      "cell_type": "markdown",
      "metadata": {
        "id": "view-in-github",
        "colab_type": "text"
      },
      "source": [
        "<a href=\"https://colab.research.google.com/github/wonwookim/UxUi/blob/main/Untitled5.ipynb\" target=\"_parent\"><img src=\"https://colab.research.google.com/assets/colab-badge.svg\" alt=\"Open In Colab\"/></a>"
      ]
    },
    {
      "cell_type": "code",
      "execution_count": null,
      "metadata": {
        "id": "tW4yRDCCLKub"
      },
      "outputs": [],
      "source": [
        "import pandas as pd\n",
        "import matplotlib.pyplot as plt\n",
        "import seaborn as sns"
      ]
    },
    {
      "cell_type": "code",
      "source": [
        "!apt -qq -y install fonts-nanum\n",
        "import matplotlib\n",
        "import matplotlib.font_manager as fm\n",
        "fontpath = '/usr/share/fonts/truetype/nanum/NanumBarunGothic.ttf'\n",
        "font = fm.FontProperties(fname=fontpath, size=9)\n",
        "plt.rc('font', family='NanumBarunGothic') \n",
        "matplotlib.font_manager._rebuild()"
      ],
      "metadata": {
        "id": "KwsnbXJ1ZvgI"
      },
      "execution_count": null,
      "outputs": []
    },
    {
      "cell_type": "code",
      "source": [
        "df = pd.read_csv('/content/drive/MyDrive/Colab Notebooks/UV 최종본.csv')"
      ],
      "metadata": {
        "id": "-E1U0CX_LPPD"
      },
      "execution_count": null,
      "outputs": []
    },
    {
      "cell_type": "code",
      "source": [
        "df.head()"
      ],
      "metadata": {
        "id": "sUY6WpPWLPM1"
      },
      "execution_count": null,
      "outputs": []
    },
    {
      "cell_type": "code",
      "source": [
        "df.Category.value_counts()"
      ],
      "metadata": {
        "id": "RcJHyygEPB0q"
      },
      "execution_count": null,
      "outputs": []
    },
    {
      "cell_type": "code",
      "source": [
        "df1 = df[df['Category'] == '스트리밍'].copy()\n",
        "df1 = df1.sort_values('Value')\n",
        "df1['Value'] = df1['Value'].str.strip()"
      ],
      "metadata": {
        "id": "i8iKUvqaWK5K"
      },
      "execution_count": null,
      "outputs": []
    },
    {
      "cell_type": "code",
      "source": [
        "df10 = df[df['Category'] == '쇼핑'].copy()\n",
        "df10 = df10.sort_values('Value')\n",
        "df10['Value'] = df10['Value'].str.strip()"
      ],
      "metadata": {
        "id": "W42gI-snpGdP"
      },
      "execution_count": null,
      "outputs": []
    },
    {
      "cell_type": "code",
      "source": [
        "df10.Value.value_counts()"
      ],
      "metadata": {
        "id": "hYlhFFsHpNcL"
      },
      "execution_count": null,
      "outputs": []
    },
    {
      "cell_type": "code",
      "source": [
        "df1.head()"
      ],
      "metadata": {
        "id": "T7uWPPtGYFgd"
      },
      "execution_count": null,
      "outputs": []
    },
    {
      "cell_type": "code",
      "source": [
        "df1.Value.value_counts()"
      ],
      "metadata": {
        "id": "WY8Y5br4WdpF"
      },
      "execution_count": null,
      "outputs": []
    },
    {
      "cell_type": "code",
      "source": [
        "def cleanings(category):\n",
        "    if(category == '건강' or category == '취미' or category == '흥분'or category == '정보성'or category == '재미'or category == '사생활'or category == '고통'or category == '우정'or category == '완벽함'or category == '편리함'or category == '아름다움'or category == '시간 단축'or category == '뿌듯함'or category == '호기심'or category == '배움'or category == '만족감'or category == '지식'):\n",
        "        return '기타'\n",
        "    else: return category"
      ],
      "metadata": {
        "id": "YTJuTi_JWrIj"
      },
      "execution_count": null,
      "outputs": []
    },
    {
      "cell_type": "code",
      "source": [
        "df1['Value'] =df1['Value'].apply(cleanings)"
      ],
      "metadata": {
        "id": "9QM_LuvMXE4q"
      },
      "execution_count": null,
      "outputs": []
    },
    {
      "cell_type": "code",
      "source": [
        "def cleaning(category):\n",
        "    category\n",
        "    if(category == '보안' or category == '시사' or category == 'QR코드' or category == '예약'or category == '재테크'or category == 'SMS'or category == '요리'or category == '택배'or category == '웹툰'or category == '업무'):\n",
        "        return '하위'\n",
        "    else: return category"
      ],
      "metadata": {
        "id": "2pjnm41eLPIY"
      },
      "execution_count": null,
      "outputs": []
    },
    {
      "cell_type": "code",
      "source": [
        "df['Category'] = df['Category'].apply(cleaning)"
      ],
      "metadata": {
        "id": "qLeTRaiMLPF8"
      },
      "execution_count": null,
      "outputs": []
    },
    {
      "cell_type": "code",
      "source": [
        "df['Category']"
      ],
      "metadata": {
        "id": "bKoxPPUnLPD8"
      },
      "execution_count": null,
      "outputs": []
    },
    {
      "cell_type": "code",
      "source": [
        "df['Category'].value_counts()"
      ],
      "metadata": {
        "id": "0LpJgZvcLPBX"
      },
      "execution_count": null,
      "outputs": []
    },
    {
      "cell_type": "code",
      "source": [
        "CountStatus = pd.value_counts(df1['Value'].values, sort=True)\n",
        "CountStatus.plot.pie(figsize=(10,8), fontsize=15, autopct='%.1f%%')"
      ],
      "metadata": {
        "id": "KB9jXHy9LO_K"
      },
      "execution_count": null,
      "outputs": []
    },
    {
      "cell_type": "code",
      "source": [
        "CountStatus = pd.value_counts(df10['Value'].values, sort=True)\n",
        "CountStatus.plot.pie(figsize=(10,8), fontsize=15, autopct='%.1f%%')"
      ],
      "metadata": {
        "id": "P-vk3SDmpahg"
      },
      "execution_count": null,
      "outputs": []
    },
    {
      "cell_type": "code",
      "source": [
        "df1.Value.value_counts()"
      ],
      "metadata": {
        "id": "RhHqNkjXcs5W"
      },
      "execution_count": null,
      "outputs": []
    },
    {
      "cell_type": "code",
      "source": [
        "df2 = df1[df1['Value'] == '즐거움'].copy()"
      ],
      "metadata": {
        "id": "PBeizorrLO15"
      },
      "execution_count": null,
      "outputs": []
    },
    {
      "cell_type": "code",
      "source": [
        "df2[df2['Evaluation'] == '-'].count()"
      ],
      "metadata": {
        "id": "khmzieKbb758"
      },
      "execution_count": null,
      "outputs": []
    },
    {
      "cell_type": "code",
      "source": [
        "def preprocessing(value):\n",
        "  if(value == '-'):\n",
        "    return 0\n",
        "  else :\n",
        "    return value"
      ],
      "metadata": {
        "id": "QuszHf13bYvx"
      },
      "execution_count": null,
      "outputs": []
    },
    {
      "cell_type": "code",
      "source": [
        "def preprocessings(series):\n",
        "  if(series == 0):\n",
        "    return series.mean()\n",
        "  else :\n",
        "    return series"
      ],
      "metadata": {
        "id": "aNe6-VGQhMAq"
      },
      "execution_count": null,
      "outputs": []
    },
    {
      "cell_type": "code",
      "source": [
        "df2['Evaluation'] = df2['Evaluation'].apply(preprocessing)"
      ],
      "metadata": {
        "id": "iou9jRGOLOzw"
      },
      "execution_count": null,
      "outputs": []
    },
    {
      "cell_type": "code",
      "source": [
        "df2['Evaluation'] = df2['Evaluation'].astype('int')"
      ],
      "metadata": {
        "id": "J-NoGTMrLOxo"
      },
      "execution_count": null,
      "outputs": []
    },
    {
      "cell_type": "code",
      "source": [
        "df2['Evaluation'] = df2['Evaluation'].replace(0, df2['Evaluation'].mean())"
      ],
      "metadata": {
        "id": "G0AjMSYMhIgX"
      },
      "execution_count": null,
      "outputs": []
    },
    {
      "cell_type": "code",
      "source": [
        "df2.dtypes"
      ],
      "metadata": {
        "id": "F4OqJPrILOvU"
      },
      "execution_count": null,
      "outputs": []
    },
    {
      "cell_type": "code",
      "source": [
        "df2.Evaluation.describe()"
      ],
      "metadata": {
        "id": "v9WyPiKoLOss"
      },
      "execution_count": null,
      "outputs": []
    },
    {
      "cell_type": "code",
      "source": [
        "df2.Evaluation.plot(kind = 'box') #즐거움"
      ],
      "metadata": {
        "id": "bon0dTvZLOqn"
      },
      "execution_count": null,
      "outputs": []
    },
    {
      "cell_type": "code",
      "source": [
        "# 편의     36\n",
        "# 휴식     34\n",
        "# 행복"
      ],
      "metadata": {
        "id": "3QM6rNWULOnz"
      },
      "execution_count": null,
      "outputs": []
    },
    {
      "cell_type": "code",
      "source": [
        "df3 = df1[df1['Value'] == '편의'].copy()\n",
        "df4 = df1[df1['Value'] == '휴식'].copy()\n",
        "df5 = df1[df1['Value'] == '행복'].copy()"
      ],
      "metadata": {
        "id": "FCUdBJarLOlp"
      },
      "execution_count": null,
      "outputs": []
    },
    {
      "cell_type": "code",
      "source": [
        "df4['Evaluation'] = df4['Evaluation'].apply(preprocessing)\n"
      ],
      "metadata": {
        "id": "4jEIZpG0ei_c"
      },
      "execution_count": null,
      "outputs": []
    },
    {
      "cell_type": "code",
      "source": [
        "df3['Evaluation'] = df3['Evaluation'].astype('int')\n",
        "df4['Evaluation'] = df4['Evaluation'].astype('int')\n",
        "df5['Evaluation'] = df5['Evaluation'].astype('int')"
      ],
      "metadata": {
        "id": "OFCuNiT6LOjQ"
      },
      "execution_count": null,
      "outputs": []
    },
    {
      "cell_type": "code",
      "source": [
        "df3['Evaluation'] = df3['Evaluation'].replace(0, df3['Evaluation'].mean())\n",
        "df4['Evaluation'] = df4['Evaluation'].replace(0, df4['Evaluation'].mean())\n",
        "df5['Evaluation'] = df5['Evaluation'].replace(0, df5['Evaluation'].mean())"
      ],
      "metadata": {
        "id": "RprJjwx8h0Xg"
      },
      "execution_count": null,
      "outputs": []
    },
    {
      "cell_type": "code",
      "source": [
        "df3.dtypes"
      ],
      "metadata": {
        "id": "NscENye7LOgx"
      },
      "execution_count": null,
      "outputs": []
    },
    {
      "cell_type": "code",
      "source": [
        "df4.Evaluation.describe()"
      ],
      "metadata": {
        "id": "SUAPWD5yLOeV"
      },
      "execution_count": null,
      "outputs": []
    },
    {
      "cell_type": "code",
      "source": [
        "df4.Evaluation.describe()"
      ],
      "metadata": {
        "id": "XyfYerVwLOcR"
      },
      "execution_count": null,
      "outputs": []
    },
    {
      "cell_type": "code",
      "source": [
        "df5.Evaluation.describe()"
      ],
      "metadata": {
        "id": "vqXOpN6rLOZ8"
      },
      "execution_count": null,
      "outputs": []
    },
    {
      "cell_type": "code",
      "source": [
        "df3.Evaluation.plot(kind = 'box') #편의"
      ],
      "metadata": {
        "id": "tDeu4uZ0LOXa"
      },
      "execution_count": null,
      "outputs": []
    },
    {
      "cell_type": "code",
      "source": [
        "df4.Evaluation.plot(kind = 'box') #휴식"
      ],
      "metadata": {
        "id": "K6O8FU1oLOVP"
      },
      "execution_count": null,
      "outputs": []
    },
    {
      "cell_type": "code",
      "source": [
        "df5.Evaluation.plot(kind = 'box') #행복"
      ],
      "metadata": {
        "id": "TosDeHd5LOSu"
      },
      "execution_count": null,
      "outputs": []
    },
    {
      "cell_type": "code",
      "source": [
        "# 행복의 quantile\n",
        "\n",
        "df2_Q1 = df2.Evaluation.quantile(0.25)\n",
        "df2_Q2 = df2.Evaluation.quantile(0.50)\n",
        "df2_Q3 = df2.Evaluation.quantile(0.75)\n",
        "\n",
        "print(df2_Q1,df2_Q2,df2_Q3)\n",
        "\n",
        "# IQR\n",
        "\n",
        "df2_IQR = df2_Q3 - df2_Q1\n",
        "print(df2_IQR)\n",
        "\n",
        "#Lower Limit\n",
        "df2_LC = df2_Q1 - (1.5 * df2_IQR)\n",
        "print(df2_LC)\n",
        "\n",
        "#Upper Limit\n",
        "df2_UC = df2_Q3 + (1.5 * df2_IQR)\n",
        "\n",
        "print(df2_UC)"
      ],
      "metadata": {
        "id": "IHmL5U4DmoWw"
      },
      "execution_count": null,
      "outputs": []
    },
    {
      "cell_type": "code",
      "source": [
        "# 편의의 quantile\n",
        "\n",
        "df3_Q1 = df3.Evaluation.quantile(0.25)\n",
        "df3_Q2 = df3.Evaluation.quantile(0.50)\n",
        "df3_Q3 = df3.Evaluation.quantile(0.75)\n",
        "\n",
        "print(df3_Q1,df3_Q2,df3_Q3)\n",
        "\n",
        "# IQR\n",
        "\n",
        "df3_IQR = df3_Q3 - df3_Q1\n",
        "print(df3_IQR)\n",
        "\n",
        "#Lower Limit\n",
        "df3_LC = df3_Q1 - (1.5 * df3_IQR)\n",
        "print(df3_LC)\n",
        "\n",
        "#Upper Limit\n",
        "df3_UC = df3_Q3 + (1.5 * df3_IQR)\n",
        "\n",
        "print(df3_UC)"
      ],
      "metadata": {
        "id": "evNb1fhSLOQk"
      },
      "execution_count": null,
      "outputs": []
    },
    {
      "cell_type": "code",
      "source": [
        "# 휴식의 quantile\n",
        "\n",
        "df4_Q1 = df4.Evaluation.quantile(0.25)\n",
        "df4_Q2 = df4.Evaluation.quantile(0.50)\n",
        "df4_Q3 = df4.Evaluation.quantile(0.75)\n",
        "\n",
        "print(df4_Q1,df4_Q2,df4_Q3)\n",
        "\n",
        "# IQR\n",
        "\n",
        "df4_IQR = df4_Q3 - df4_Q1\n",
        "print(df4_IQR)\n",
        "\n",
        "#Lower Limit\n",
        "df4_LC = df4_Q1 - (1.5 * df4_IQR)\n",
        "print(df4_LC)\n",
        "\n",
        "#Upper Limit\n",
        "df4_UC = df4_Q3 + (1.5 * df4_IQR)\n",
        "\n",
        "print(df4_UC)"
      ],
      "metadata": {
        "id": "ZroK7QINLOOC"
      },
      "execution_count": null,
      "outputs": []
    },
    {
      "cell_type": "code",
      "source": [
        "# 행복의 quantile\n",
        "\n",
        "df5_Q1 = df5.Evaluation.quantile(0.25)\n",
        "df5_Q2 = df5.Evaluation.quantile(0.50)\n",
        "df5_Q3 = df5.Evaluation.quantile(0.75)\n",
        "\n",
        "print(df5_Q1,df5_Q2,df5_Q3)\n",
        "\n",
        "# IQR\n",
        "\n",
        "df5_IQR = df5_Q3 - df5_Q1\n",
        "print(df5_IQR)\n",
        "\n",
        "#Lower Limit\n",
        "df5_LC = df5_Q1 - (1.5 * df5_IQR)\n",
        "print(df5_LC)\n",
        "\n",
        "#Upper Limit\n",
        "df5_UC = df5_Q3 + (1.5 * df5_IQR)\n",
        "\n",
        "print(df5_UC)"
      ],
      "metadata": {
        "id": "EQimKk4pLOL2"
      },
      "execution_count": null,
      "outputs": []
    },
    {
      "cell_type": "code",
      "source": [
        "sns.distplot(df2.Evaluation)\n",
        "plt.axvline(df2_Q1, color = 'g')\n",
        "plt.axvline(df2_Q3, color = 'g')\n",
        "plt.axvline(df2_LC, color = 'r')\n",
        "plt.axvline(df2_UC, color = 'r')"
      ],
      "metadata": {
        "id": "NZI2Gft3minQ"
      },
      "execution_count": null,
      "outputs": []
    },
    {
      "cell_type": "code",
      "source": [
        "sns.distplot(df3.Evaluation)\n",
        "plt.axvline(df3_Q1, color = 'g')\n",
        "plt.axvline(df3_Q3, color = 'g')\n",
        "plt.axvline(df3_LC, color = 'r')\n",
        "plt.axvline(df3_UC, color = 'r')"
      ],
      "metadata": {
        "id": "D8gUSvUaLOJV"
      },
      "execution_count": null,
      "outputs": []
    },
    {
      "cell_type": "code",
      "source": [
        "sns.distplot(df4.Evaluation)\n",
        "plt.axvline(df4_Q1, color = 'g')\n",
        "plt.axvline(df4_Q3, color = 'g')\n",
        "plt.axvline(df4_LC, color = 'r')\n",
        "plt.axvline(df4_UC, color = 'r')"
      ],
      "metadata": {
        "id": "ggBEGW5-LOHA"
      },
      "execution_count": null,
      "outputs": []
    },
    {
      "cell_type": "code",
      "source": [
        "sns.distplot(df5.Evaluation)\n",
        "plt.axvline(df5_Q1, color = 'g')\n",
        "plt.axvline(df5_Q3, color = 'g')\n",
        "plt.axvline(df5_LC, color = 'r')\n",
        "plt.axvline(df5_UC, color = 'r')"
      ],
      "metadata": {
        "id": "O88IhvN4LOEy"
      },
      "execution_count": null,
      "outputs": []
    },
    {
      "cell_type": "code",
      "source": [
        ""
      ],
      "metadata": {
        "id": "L87SIG4dLOCi"
      },
      "execution_count": null,
      "outputs": []
    },
    {
      "cell_type": "code",
      "source": [
        ""
      ],
      "metadata": {
        "id": "bwV2L12vLOAN"
      },
      "execution_count": null,
      "outputs": []
    },
    {
      "cell_type": "code",
      "source": [
        ""
      ],
      "metadata": {
        "id": "qd0bTx_FLN93"
      },
      "execution_count": null,
      "outputs": []
    },
    {
      "cell_type": "code",
      "source": [
        ""
      ],
      "metadata": {
        "id": "ecIFSU7fLN7a"
      },
      "execution_count": null,
      "outputs": []
    },
    {
      "cell_type": "code",
      "source": [
        ""
      ],
      "metadata": {
        "id": "C9Ax1k52LN5L"
      },
      "execution_count": null,
      "outputs": []
    },
    {
      "cell_type": "code",
      "source": [
        ""
      ],
      "metadata": {
        "id": "iZEXobVmLN21"
      },
      "execution_count": null,
      "outputs": []
    },
    {
      "cell_type": "code",
      "source": [
        ""
      ],
      "metadata": {
        "id": "WP_bzYc0LN0Y"
      },
      "execution_count": null,
      "outputs": []
    },
    {
      "cell_type": "code",
      "source": [
        ""
      ],
      "metadata": {
        "id": "OXulj_RPLNxy"
      },
      "execution_count": null,
      "outputs": []
    },
    {
      "cell_type": "code",
      "source": [
        ""
      ],
      "metadata": {
        "id": "c2cU0eIrLNvV"
      },
      "execution_count": null,
      "outputs": []
    },
    {
      "cell_type": "code",
      "source": [
        ""
      ],
      "metadata": {
        "id": "SszY8i4jLNtO"
      },
      "execution_count": null,
      "outputs": []
    }
  ]
}