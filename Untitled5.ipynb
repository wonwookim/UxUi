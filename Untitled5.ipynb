{
  "nbformat": 4,
  "nbformat_minor": 0,
  "metadata": {
    "colab": {
      "name": "Untitled5.ipynb",
      "private_outputs": true,
      "provenance": [],
      "mount_file_id": "https://github.com/wonwookim/UxUi/blob/main/Untitled5.ipynb",
      "authorship_tag": "ABX9TyON00Vw7BDf7YP7QkGESn3b",
      "include_colab_link": true
    },
    "kernelspec": {
      "name": "python3",
      "display_name": "Python 3"
    },
    "language_info": {
      "name": "python"
    }
  },
  "cells": [
    {
      "cell_type": "markdown",
      "metadata": {
        "id": "view-in-github",
        "colab_type": "text"
      },
      "source": [
        "<a href=\"https://colab.research.google.com/github/wonwookim/UxUi/blob/main/Untitled5.ipynb\" target=\"_parent\"><img src=\"https://colab.research.google.com/assets/colab-badge.svg\" alt=\"Open In Colab\"/></a>"
      ]
    },
    {
      "cell_type": "markdown",
      "source": [
        ""
      ],
      "metadata": {
        "id": "npP-QvucWSag"
      }
    },
    {
      "cell_type": "code",
      "execution_count": null,
      "metadata": {
        "id": "tW4yRDCCLKub"
      },
      "outputs": [],
      "source": [
        "import pandas as pd\n",
        "import matplotlib.pyplot as plt\n",
        "import seaborn as sns"
      ]
    },
    {
      "cell_type": "code",
      "source": [
        "!apt -qq -y install fonts-nanum\n",
        "import matplotlib\n",
        "import matplotlib.font_manager as fm\n",
        "fontpath = '/usr/share/fonts/truetype/nanum/NanumBarunGothic.ttf'\n",
        "font = fm.FontProperties(fname=fontpath, size=9)\n",
        "plt.rc('font', family='NanumBarunGothic') \n",
        "matplotlib.font_manager._rebuild()"
      ],
      "metadata": {
        "id": "KwsnbXJ1ZvgI"
      },
      "execution_count": null,
      "outputs": []
    },
    {
      "cell_type": "code",
      "source": [
        "df = pd.read_csv('/content/drive/MyDrive/Colab Notebooks/UV 최종본.csv', encoding='cp949')"
      ],
      "metadata": {
        "id": "-E1U0CX_LPPD"
      },
      "execution_count": null,
      "outputs": []
    },
    {
      "cell_type": "code",
      "source": [
        "df.head()"
      ],
      "metadata": {
        "id": "sUY6WpPWLPM1"
      },
      "execution_count": null,
      "outputs": []
    },
    {
      "cell_type": "code",
      "source": [
        "find = set(df.Category)"
      ],
      "metadata": {
        "id": "BNGCV0jGeXby"
      },
      "execution_count": null,
      "outputs": []
    },
    {
      "cell_type": "code",
      "source": [
        "a = list(find)"
      ],
      "metadata": {
        "id": "sWUVKIRcesaw"
      },
      "execution_count": null,
      "outputs": []
    },
    {
      "cell_type": "code",
      "source": [
        "a"
      ],
      "metadata": {
        "id": "IGnCRF_MfBxp"
      },
      "execution_count": null,
      "outputs": []
    },
    {
      "cell_type": "code",
      "source": [
        "len(a)"
      ],
      "metadata": {
        "id": "IPnCsCU6emyp"
      },
      "execution_count": null,
      "outputs": []
    },
    {
      "cell_type": "code",
      "source": [
        "df.Category.value_counts()"
      ],
      "metadata": {
        "id": "RcJHyygEPB0q"
      },
      "execution_count": null,
      "outputs": []
    },
    {
      "cell_type": "code",
      "source": [
        "data = df.copy()"
      ],
      "metadata": {
        "id": "pVXlPCzTbhAr"
      },
      "execution_count": null,
      "outputs": []
    },
    {
      "cell_type": "code",
      "source": [
        "data = data.sort_values('Value')\n",
        "data['Value'] = data['Value'].str.strip()\n"
      ],
      "metadata": {
        "id": "vyGd0HlJb1rJ"
      },
      "execution_count": null,
      "outputs": []
    },
    {
      "cell_type": "code",
      "source": [
        "a = data['Value'].value_counts()"
      ],
      "metadata": {
        "id": "XAN_QzArdZM3"
      },
      "execution_count": null,
      "outputs": []
    },
    {
      "cell_type": "code",
      "source": [
        "a"
      ],
      "metadata": {
        "id": "tqEytKTvPWaH"
      },
      "execution_count": null,
      "outputs": []
    },
    {
      "cell_type": "code",
      "source": [
        "a[4: 11]"
      ],
      "metadata": {
        "id": "GLrN8aRUdb3e"
      },
      "execution_count": null,
      "outputs": []
    },
    {
      "cell_type": "code",
      "source": [
        "a['편의']"
      ],
      "metadata": {
        "id": "saRimXNbdwR5"
      },
      "execution_count": null,
      "outputs": []
    },
    {
      "cell_type": "code",
      "source": [
        "def preprocess(a):\n",
        "  if(a == '편의' or a == '즐거움' or a == '행복' or a == '휴식' or a == '금전' or a == '우정' or a == '편리함' or a == '편안함' or a == '추억' or a == '호기심' or a == '사생활'):\n",
        "    return a\n",
        "  else : \n",
        "    return '기타'  "
      ],
      "metadata": {
        "id": "yy8mcqV2fziN"
      },
      "execution_count": null,
      "outputs": []
    },
    {
      "cell_type": "code",
      "source": [
        "data['Value'] = data['Value'].apply(preprocess)"
      ],
      "metadata": {
        "id": "G8aStmJkgqaC"
      },
      "execution_count": null,
      "outputs": []
    },
    {
      "cell_type": "code",
      "source": [
        "CountStatus = pd.value_counts(data['Value'].values, sort=True)\n",
        "CountStatus.plot.pie(figsize=(10,8), fontsize=15, autopct='%.1f%%')"
      ],
      "metadata": {
        "id": "Flhn9J7ugxWk"
      },
      "execution_count": null,
      "outputs": []
    },
    {
      "cell_type": "code",
      "source": [
        "data1 = data[data['Value'] == '편의'].copy()\n",
        "data1 = data1.sort_values('Category')"
      ],
      "metadata": {
        "id": "tz3KabPkbwKv"
      },
      "execution_count": null,
      "outputs": []
    },
    {
      "cell_type": "code",
      "source": [
        "data1['Category'].value_counts()"
      ],
      "metadata": {
        "id": "Qr7WAYPBk9tX"
      },
      "execution_count": null,
      "outputs": []
    },
    {
      "cell_type": "code",
      "source": [
        "CountStatus = pd.value_counts(data1['Category'].values, sort=True)\n",
        "CountStatus.plot.pie(figsize=(10,8), fontsize=15, autopct='%.1f%%')"
      ],
      "metadata": {
        "id": "25m0bUpalJKa"
      },
      "execution_count": null,
      "outputs": []
    },
    {
      "cell_type": "code",
      "source": [
        "data2 = data1[data1['Category'] == '알림'].copy()\n",
        "data2 = data2.sort_values('Value')\n",
        "data2['Value'] = data2['Value'].str.strip()\n",
        "data2.Evaluation = data2.Evaluation.apply(aaaa)\n",
        "data2.Evaluation = data2.Evaluation.astype(int)"
      ],
      "metadata": {
        "id": "iGUg3krHlj_y"
      },
      "execution_count": null,
      "outputs": []
    },
    {
      "cell_type": "code",
      "source": [
        "data2.Evaluation.describe()"
      ],
      "metadata": {
        "id": "vWuXMQdkooAk"
      },
      "execution_count": null,
      "outputs": []
    },
    {
      "cell_type": "code",
      "source": [
        "sns.distplot(data2.Evaluation)"
      ],
      "metadata": {
        "id": "Z8-lF6j7pBBy"
      },
      "execution_count": null,
      "outputs": []
    },
    {
      "cell_type": "code",
      "source": [
        "data2.Evaluation.plot(kind = 'box') #알림"
      ],
      "metadata": {
        "id": "7CHE9pJhovXD"
      },
      "execution_count": null,
      "outputs": []
    },
    {
      "cell_type": "code",
      "source": [
        "data3 = data1[data1['Category'] == '쇼핑'].copy() #쇼핑\n",
        "data3 = data3.sort_values('Value')\n",
        "data3['Value'] = data3['Value'].str.strip()\n",
        "data3.Evaluation = data3.Evaluation.apply(aaaa)\n",
        "data3.Evaluation = data3.Evaluation.astype(int)"
      ],
      "metadata": {
        "id": "Hl45uw7_tIFN"
      },
      "execution_count": null,
      "outputs": []
    },
    {
      "cell_type": "code",
      "source": [
        "data3.Evaluation.describe()"
      ],
      "metadata": {
        "id": "GLx36UubtY9E"
      },
      "execution_count": null,
      "outputs": []
    },
    {
      "cell_type": "code",
      "source": [
        "sns.distplot(data3.Evaluation)"
      ],
      "metadata": {
        "id": "yQ7pXfUmtNwA"
      },
      "execution_count": null,
      "outputs": []
    },
    {
      "cell_type": "code",
      "source": [
        "data3.Evaluation.plot(kind = 'box')"
      ],
      "metadata": {
        "id": "x7agqVvHtSDK"
      },
      "execution_count": null,
      "outputs": []
    },
    {
      "cell_type": "code",
      "source": [
        "data4 = data1[data1['Category'] == '대중교통'].copy()\n",
        "data4 = data4.sort_values('Value')\n",
        "data4['Value'] = data4['Value'].str.strip()\n",
        "data4.Evaluation = data4.Evaluation.apply(aaaa)\n",
        "data4.Evaluation = data4.Evaluation.astype(int)"
      ],
      "metadata": {
        "id": "DNEvvUMFtnT1"
      },
      "execution_count": null,
      "outputs": []
    },
    {
      "cell_type": "code",
      "source": [
        "sns.distplot(data4.Evaluation)"
      ],
      "metadata": {
        "id": "G3C4ISCitsUl"
      },
      "execution_count": null,
      "outputs": []
    },
    {
      "cell_type": "code",
      "source": [
        "data4.Evaluation.plot(kind = 'box')"
      ],
      "metadata": {
        "id": "pg0JYGqbtyQD"
      },
      "execution_count": null,
      "outputs": []
    },
    {
      "cell_type": "code",
      "source": [
        "def aaaa(aa):\n",
        "  if(': ' in aa):\n",
        "    return aa.strip(': ')\n",
        "  else: return aa"
      ],
      "metadata": {
        "id": "xjqloSSkl-xU"
      },
      "execution_count": null,
      "outputs": []
    },
    {
      "cell_type": "code",
      "source": [
        "df1 = df[df['Category'] == '스트리밍'].copy()\n",
        "df1 = df1.sort_values('Value')\n",
        "df1['Value'] = df1['Value'].str.strip()"
      ],
      "metadata": {
        "id": "i8iKUvqaWK5K"
      },
      "execution_count": null,
      "outputs": []
    },
    {
      "cell_type": "code",
      "source": [
        "df10 = df[df['Category'] == '쇼핑'].copy()\n",
        "df10 = df10.sort_values('Value')\n",
        "df10['Value'] = df10['Value'].str.strip()"
      ],
      "metadata": {
        "id": "W42gI-snpGdP"
      },
      "execution_count": null,
      "outputs": []
    },
    {
      "cell_type": "code",
      "source": [
        "df20 = df[df['Category'] == '음악'].copy()\n",
        "df20 = df20.sort_values('Value')\n",
        "df20['Value'] = df20['Value'].str.strip()"
      ],
      "metadata": {
        "id": "_3B9MDzVZ8gg"
      },
      "execution_count": null,
      "outputs": []
    },
    {
      "cell_type": "code",
      "source": [
        "df30 = df[df['Category'] == '알림'].copy()\n",
        "df30 = df30.sort_values('Value')\n",
        "df30['Value'] = df30['Value'].str.strip()"
      ],
      "metadata": {
        "id": "FqIr_GLGaFJT"
      },
      "execution_count": null,
      "outputs": []
    },
    {
      "cell_type": "code",
      "source": [
        "df40 = df[df['Category'] == 'SNS'].copy()\n",
        "df40 = df40.sort_values('Value')\n",
        "df40['Value'] = df40['Value'].str.strip()"
      ],
      "metadata": {
        "id": "qhaTNtCIaTSU"
      },
      "execution_count": null,
      "outputs": []
    },
    {
      "cell_type": "code",
      "source": [
        "df40.Value.value_counts()"
      ],
      "metadata": {
        "id": "hYlhFFsHpNcL"
      },
      "execution_count": null,
      "outputs": []
    },
    {
      "cell_type": "code",
      "source": [
        "from google.colab import drive\n",
        "drive.mount('/content/drive')"
      ],
      "metadata": {
        "id": "XOtrPVMHcrFL"
      },
      "execution_count": null,
      "outputs": []
    },
    {
      "cell_type": "code",
      "source": [
        "df1.head()"
      ],
      "metadata": {
        "id": "T7uWPPtGYFgd"
      },
      "execution_count": null,
      "outputs": []
    },
    {
      "cell_type": "code",
      "source": [
        "df1.Value.value_counts()"
      ],
      "metadata": {
        "id": "WY8Y5br4WdpF"
      },
      "execution_count": null,
      "outputs": []
    },
    {
      "cell_type": "code",
      "source": [
        "def cleanings(category):\n",
        "    if(category == '건강' or category == '취미' or category == '흥분'or category == '정보성'or category == '재미'or category == '사생활'or category == '고통'or category == '우정'or category == '완벽함'or category == '편리함'or category == '아름다움'or category == '시간 단축'or category == '뿌듯함'or category == '호기심'or category == '배움'or category == '만족감'or category == '지식' or category == '자신감'):\n",
        "        return '기타'\n",
        "    else: return category"
      ],
      "metadata": {
        "id": "YTJuTi_JWrIj"
      },
      "execution_count": null,
      "outputs": []
    },
    {
      "cell_type": "code",
      "source": [
        "def cleanings1(category):\n",
        "    if(category == '호기심' or category == '행운' or category == '건강' or category == '자신감' or category == '애정'or category == '알뜰함'or category == '아름다움'or category == '실망'or category == '소비욕'or category == '만족감'or category == '휴식'or category == '사생활'or category == '편안함'or category == '불안'):\n",
        "        return '기타'\n",
        "    else: return category"
      ],
      "metadata": {
        "id": "aS4M5VvIu6pK"
      },
      "execution_count": null,
      "outputs": []
    },
    {
      "cell_type": "code",
      "source": [
        "def cleanings2(category):\n",
        "    if(category == '추억' or category == '호기심' or category == '개운함' or category == '금전' or category == '사생활'or category == '파이팅'):\n",
        "        return '기타'\n",
        "    else: return category"
      ],
      "metadata": {
        "id": "LNJ0RBFj1N_j"
      },
      "execution_count": null,
      "outputs": []
    },
    {
      "cell_type": "code",
      "source": [
        "df1['Value'] =df1['Value'].apply(cleanings)"
      ],
      "metadata": {
        "id": "9QM_LuvMXE4q"
      },
      "execution_count": null,
      "outputs": []
    },
    {
      "cell_type": "code",
      "source": [
        "def cleaning(category):\n",
        "    category\n",
        "    if(category == '보안' or category == '시사' or category == 'QR코드' or category == '예약'or category == '재테크'or category == 'SMS'or category == '요리'or category == '택배'or category == '웹툰'or category == '업무'):\n",
        "        return '하위'\n",
        "    else: return category"
      ],
      "metadata": {
        "id": "2pjnm41eLPIY"
      },
      "execution_count": null,
      "outputs": []
    },
    {
      "cell_type": "code",
      "source": [
        "df['Category'] = df['Category'].apply(cleaning)"
      ],
      "metadata": {
        "id": "qLeTRaiMLPF8"
      },
      "execution_count": null,
      "outputs": []
    },
    {
      "cell_type": "code",
      "source": [
        "df['Category']"
      ],
      "metadata": {
        "id": "bKoxPPUnLPD8"
      },
      "execution_count": null,
      "outputs": []
    },
    {
      "cell_type": "code",
      "source": [
        "df['Category'].value_counts()"
      ],
      "metadata": {
        "id": "0LpJgZvcLPBX"
      },
      "execution_count": null,
      "outputs": []
    },
    {
      "cell_type": "code",
      "source": [
        "CountStatus = pd.value_counts(df['Category'].values, sort=True)\n",
        "CountStatus.plot.pie(figsize=(10,8), fontsize=15, autopct='%.1f%%')"
      ],
      "metadata": {
        "id": "Ya57M1I4vVLU"
      },
      "execution_count": null,
      "outputs": []
    },
    {
      "cell_type": "code",
      "source": [
        "df10['Value'].value_counts()"
      ],
      "metadata": {
        "id": "mEONxDmhubgF"
      },
      "execution_count": null,
      "outputs": []
    },
    {
      "cell_type": "code",
      "source": [
        "df20['Value'].value_counts()"
      ],
      "metadata": {
        "id": "UKecl31Muh1x"
      },
      "execution_count": null,
      "outputs": []
    },
    {
      "cell_type": "code",
      "source": [
        "df10['Value'] = df10['Value'].apply(cleanings1)\n",
        "df20['Value'] = df20['Value'].apply(cleanings2)"
      ],
      "metadata": {
        "id": "kXduDEEKvNXj"
      },
      "execution_count": null,
      "outputs": []
    },
    {
      "cell_type": "code",
      "source": [
        "CountStatus = pd.value_counts(df10['Value'].values, sort=True)\n",
        "CountStatus.plot.pie(figsize=(10,8), fontsize=15, autopct='%.1f%%')"
      ],
      "metadata": {
        "id": "AoJYFd7Gsdp_"
      },
      "execution_count": null,
      "outputs": []
    },
    {
      "cell_type": "code",
      "source": [
        "CountStatus = pd.value_counts(df1['Value'].values, sort=True)\n",
        "CountStatus.plot.pie(figsize=(10,8), fontsize=15, autopct='%.1f%%')"
      ],
      "metadata": {
        "id": "KB9jXHy9LO_K"
      },
      "execution_count": null,
      "outputs": []
    },
    {
      "cell_type": "code",
      "source": [
        "CountStatus = pd.value_counts(df10['Value'].values, sort=True)\n",
        "CountStatus.plot.pie(figsize=(10,8), fontsize=15, autopct='%.1f%%')"
      ],
      "metadata": {
        "id": "P-vk3SDmpahg"
      },
      "execution_count": null,
      "outputs": []
    },
    {
      "cell_type": "code",
      "source": [
        "CountStatus = pd.value_counts(df20['Value'].values, sort=True)\n",
        "CountStatus.plot.pie(figsize=(10,8), fontsize=15, autopct='%.1f%%')"
      ],
      "metadata": {
        "id": "9VFqHX8W1fRX"
      },
      "execution_count": null,
      "outputs": []
    },
    {
      "cell_type": "code",
      "source": [
        "df1.Value.value_counts()"
      ],
      "metadata": {
        "id": "RhHqNkjXcs5W"
      },
      "execution_count": null,
      "outputs": []
    },
    {
      "cell_type": "code",
      "source": [
        "df2 = df1[df1['Value'] == '즐거움'].copy()"
      ],
      "metadata": {
        "id": "PBeizorrLO15"
      },
      "execution_count": null,
      "outputs": []
    },
    {
      "cell_type": "code",
      "source": [
        "df4[df4['Evaluation'] == '-'].count()"
      ],
      "metadata": {
        "id": "khmzieKbb758"
      },
      "execution_count": null,
      "outputs": []
    },
    {
      "cell_type": "code",
      "source": [
        "def preprocessing(value):\n",
        "  if(value == '-'):\n",
        "    return 0\n",
        "  else :\n",
        "    return value"
      ],
      "metadata": {
        "id": "QuszHf13bYvx"
      },
      "execution_count": null,
      "outputs": []
    },
    {
      "cell_type": "code",
      "source": [
        "df2['Evaluation'] = df2['Evaluation'].apply(preprocessing)\n",
        "df2['Evaluation'] = df2['Evaluation'].replace(0, df2['Evaluation'].mean())"
      ],
      "metadata": {
        "id": "m5i5jg_z9xy_"
      },
      "execution_count": null,
      "outputs": []
    },
    {
      "cell_type": "code",
      "source": [
        "def preprocessings(series):\n",
        "  if(series == 0):\n",
        "    return series.mean()\n",
        "  else :\n",
        "    return series"
      ],
      "metadata": {
        "id": "aNe6-VGQhMAq"
      },
      "execution_count": null,
      "outputs": []
    },
    {
      "cell_type": "code",
      "source": [
        "df2['Evaluation'] = df2['Evaluation'].apply(preprocessing)\n",
        "df2['Evaluation'] = df2['Evaluation'].replace(0, df2['Evaluation'].mean())"
      ],
      "metadata": {
        "id": "iou9jRGOLOzw"
      },
      "execution_count": null,
      "outputs": []
    },
    {
      "cell_type": "code",
      "source": [
        "df2['Evaluation'] = df2['Evaluation'].astype('int')"
      ],
      "metadata": {
        "id": "J-NoGTMrLOxo"
      },
      "execution_count": null,
      "outputs": []
    },
    {
      "cell_type": "code",
      "source": [
        ""
      ],
      "metadata": {
        "id": "G0AjMSYMhIgX"
      },
      "execution_count": null,
      "outputs": []
    },
    {
      "cell_type": "code",
      "source": [
        "df2.dtypes"
      ],
      "metadata": {
        "id": "F4OqJPrILOvU"
      },
      "execution_count": null,
      "outputs": []
    },
    {
      "cell_type": "code",
      "source": [
        "print(df2.Evaluation.describe())\n",
        "print('median : ' ,df2.Evaluation.median())"
      ],
      "metadata": {
        "id": "v9WyPiKoLOss"
      },
      "execution_count": null,
      "outputs": []
    },
    {
      "cell_type": "code",
      "source": [
        "df2.Evaluation.plot(kind = 'box') #즐거움"
      ],
      "metadata": {
        "id": "bon0dTvZLOqn"
      },
      "execution_count": null,
      "outputs": []
    },
    {
      "cell_type": "code",
      "source": [
        "# 편의     36\n",
        "# 휴식     34\n",
        "# 행복"
      ],
      "metadata": {
        "id": "3QM6rNWULOnz"
      },
      "execution_count": null,
      "outputs": []
    },
    {
      "cell_type": "code",
      "source": [
        "df3 = df1[df1['Value'] == '편의'].copy()\n",
        "df4 = df1[df1['Value'] == '휴식'].copy()\n",
        "df5 = df1[df1['Value'] == '행복'].copy()"
      ],
      "metadata": {
        "id": "FCUdBJarLOlp"
      },
      "execution_count": null,
      "outputs": []
    },
    {
      "cell_type": "code",
      "source": [
        "df4['Evaluation'] = df4['Evaluation'].apply(preprocessing)\n"
      ],
      "metadata": {
        "id": "4jEIZpG0ei_c"
      },
      "execution_count": null,
      "outputs": []
    },
    {
      "cell_type": "code",
      "source": [
        "df3['Evaluation'] = df3['Evaluation'].astype('int')\n",
        "df4['Evaluation'] = df4['Evaluation'].astype('int')\n",
        "df5['Evaluation'] = df5['Evaluation'].astype('int')"
      ],
      "metadata": {
        "id": "OFCuNiT6LOjQ"
      },
      "execution_count": null,
      "outputs": []
    },
    {
      "cell_type": "code",
      "source": [
        "df3['Evaluation'] = df3['Evaluation'].replace(0, df3['Evaluation'].mean())\n",
        "df4['Evaluation'] = df4['Evaluation'].replace(0, df4['Evaluation'].mean())\n",
        "df5['Evaluation'] = df5['Evaluation'].replace(0, df5['Evaluation'].mean())"
      ],
      "metadata": {
        "id": "RprJjwx8h0Xg"
      },
      "execution_count": null,
      "outputs": []
    },
    {
      "cell_type": "code",
      "source": [
        "df3.dtypes"
      ],
      "metadata": {
        "id": "NscENye7LOgx"
      },
      "execution_count": null,
      "outputs": []
    },
    {
      "cell_type": "code",
      "source": [
        "print(df3.Evaluation.describe())\n",
        "print('median : ' ,df3.Evaluation.median())"
      ],
      "metadata": {
        "id": "SUAPWD5yLOeV"
      },
      "execution_count": null,
      "outputs": []
    },
    {
      "cell_type": "code",
      "source": [
        "print(df4.Evaluation.describe())\n",
        "print('median : ' ,df4.Evaluation.median())"
      ],
      "metadata": {
        "id": "XyfYerVwLOcR"
      },
      "execution_count": null,
      "outputs": []
    },
    {
      "cell_type": "code",
      "source": [
        "df5.Evaluation.describe()"
      ],
      "metadata": {
        "id": "vqXOpN6rLOZ8"
      },
      "execution_count": null,
      "outputs": []
    },
    {
      "cell_type": "code",
      "source": [
        "df3.Evaluation.plot(kind = 'box') #편의"
      ],
      "metadata": {
        "id": "tDeu4uZ0LOXa"
      },
      "execution_count": null,
      "outputs": []
    },
    {
      "cell_type": "code",
      "source": [
        "df4.Evaluation.plot(kind = 'box') #휴식"
      ],
      "metadata": {
        "id": "K6O8FU1oLOVP"
      },
      "execution_count": null,
      "outputs": []
    },
    {
      "cell_type": "code",
      "source": [
        "df5.Evaluation.plot(kind = 'box') #행복"
      ],
      "metadata": {
        "id": "TosDeHd5LOSu"
      },
      "execution_count": null,
      "outputs": []
    },
    {
      "cell_type": "code",
      "source": [
        "# 행복의 quantile\n",
        "\n",
        "df2_Q1 = df2.Evaluation.quantile(0.25)\n",
        "df2_Q2 = df2.Evaluation.quantile(0.50)\n",
        "df2_Q3 = df2.Evaluation.quantile(0.75)\n",
        "\n",
        "print(df2_Q1,df2_Q2,df2_Q3)\n",
        "\n",
        "# IQR\n",
        "\n",
        "df2_IQR = df2_Q3 - df2_Q1\n",
        "print(df2_IQR)\n",
        "\n",
        "#Lower Limit\n",
        "df2_LC = df2_Q1 - (1.5 * df2_IQR)\n",
        "print(df2_LC)\n",
        "\n",
        "#Upper Limit\n",
        "df2_UC = df2_Q3 + (1.5 * df2_IQR)\n",
        "\n",
        "print(df2_UC)"
      ],
      "metadata": {
        "id": "IHmL5U4DmoWw"
      },
      "execution_count": null,
      "outputs": []
    },
    {
      "cell_type": "code",
      "source": [
        "# 편의의 quantile\n",
        "\n",
        "df3_Q1 = df3.Evaluation.quantile(0.25)\n",
        "df3_Q2 = df3.Evaluation.quantile(0.50)\n",
        "df3_Q3 = df3.Evaluation.quantile(0.75)\n",
        "\n",
        "print(df3_Q1,df3_Q2,df3_Q3)\n",
        "\n",
        "# IQR\n",
        "\n",
        "df3_IQR = df3_Q3 - df3_Q1\n",
        "print(df3_IQR)\n",
        "\n",
        "#Lower Limit\n",
        "df3_LC = df3_Q1 - (1.5 * df3_IQR)\n",
        "print(df3_LC)\n",
        "\n",
        "#Upper Limit\n",
        "df3_UC = df3_Q3 + (1.5 * df3_IQR)\n",
        "\n",
        "print(df3_UC)"
      ],
      "metadata": {
        "id": "evNb1fhSLOQk"
      },
      "execution_count": null,
      "outputs": []
    },
    {
      "cell_type": "code",
      "source": [
        "# 휴식의 quantile\n",
        "\n",
        "df4_Q1 = df4.Evaluation.quantile(0.25)\n",
        "df4_Q2 = df4.Evaluation.quantile(0.50)\n",
        "df4_Q3 = df4.Evaluation.quantile(0.75)\n",
        "\n",
        "print(df4_Q1,df4_Q2,df4_Q3)\n",
        "\n",
        "# IQR\n",
        "\n",
        "df4_IQR = df4_Q3 - df4_Q1\n",
        "print(df4_IQR)\n",
        "\n",
        "#Lower Limit\n",
        "df4_LC = df4_Q1 - (1.5 * df4_IQR)\n",
        "print(df4_LC)\n",
        "\n",
        "#Upper Limit\n",
        "df4_UC = df4_Q3 + (1.5 * df4_IQR)\n",
        "\n",
        "print(df4_UC)"
      ],
      "metadata": {
        "id": "ZroK7QINLOOC"
      },
      "execution_count": null,
      "outputs": []
    },
    {
      "cell_type": "code",
      "source": [
        "# 행복의 quantile\n",
        "\n",
        "df5_Q1 = df5.Evaluation.quantile(0.25)\n",
        "df5_Q2 = df5.Evaluation.quantile(0.50)\n",
        "df5_Q3 = df5.Evaluation.quantile(0.75)\n",
        "\n",
        "print(df5_Q1,df5_Q2,df5_Q3)\n",
        "\n",
        "# IQR\n",
        "\n",
        "df5_IQR = df5_Q3 - df5_Q1\n",
        "print(df5_IQR)\n",
        "\n",
        "#Lower Limit\n",
        "df5_LC = df5_Q1 - (1.5 * df5_IQR)\n",
        "print(df5_LC)\n",
        "\n",
        "#Upper Limit\n",
        "df5_UC = df5_Q3 + (1.5 * df5_IQR)\n",
        "\n",
        "print(df5_UC)"
      ],
      "metadata": {
        "id": "EQimKk4pLOL2"
      },
      "execution_count": null,
      "outputs": []
    },
    {
      "cell_type": "code",
      "source": [
        "sns.distplot(df2.Evaluation)\n",
        "plt.axvline(df2_Q1, color = 'g')\n",
        "plt.axvline(df2_Q3, color = 'g')\n",
        "plt.axvline(df2_LC, color = 'r')\n",
        "plt.axvline(df2_UC, color = 'r')"
      ],
      "metadata": {
        "id": "NZI2Gft3minQ"
      },
      "execution_count": null,
      "outputs": []
    },
    {
      "cell_type": "code",
      "source": [
        "sns.distplot(df3.Evaluation)\n",
        "plt.axvline(df3_Q1, color = 'g')\n",
        "plt.axvline(df3_Q3, color = 'g')\n",
        "plt.axvline(df3_LC, color = 'r')\n",
        "plt.axvline(df3_UC, color = 'r')"
      ],
      "metadata": {
        "id": "D8gUSvUaLOJV"
      },
      "execution_count": null,
      "outputs": []
    },
    {
      "cell_type": "code",
      "source": [
        "df4[(df4['Evaluation'] > 60) & (df4['Evaluation'] < 70)]"
      ],
      "metadata": {
        "id": "4jMgmU8f6fUo"
      },
      "execution_count": null,
      "outputs": []
    },
    {
      "cell_type": "code",
      "source": [
        "sns.distplot(df4.Evaluation)\n",
        "plt.axvline(df4_Q1, color = 'g')\n",
        "plt.axvline(df4_Q3, color = 'g')\n",
        "plt.axvline(df4_LC, color = 'r')\n",
        "plt.axvline(df4_UC, color = 'r')"
      ],
      "metadata": {
        "id": "ggBEGW5-LOHA"
      },
      "execution_count": null,
      "outputs": []
    },
    {
      "cell_type": "code",
      "source": [
        "sns.distplot(df5.Evaluation)\n",
        "plt.axvline(df5_Q1, color = 'g')\n",
        "plt.axvline(df5_Q3, color = 'g')\n",
        "plt.axvline(df5_LC, color = 'r')\n",
        "plt.axvline(df5_UC, color = 'r')"
      ],
      "metadata": {
        "id": "O88IhvN4LOEy"
      },
      "execution_count": null,
      "outputs": []
    },
    {
      "cell_type": "code",
      "source": [
        ""
      ],
      "metadata": {
        "id": "L87SIG4dLOCi"
      },
      "execution_count": null,
      "outputs": []
    },
    {
      "cell_type": "code",
      "source": [
        ""
      ],
      "metadata": {
        "id": "bwV2L12vLOAN"
      },
      "execution_count": null,
      "outputs": []
    },
    {
      "cell_type": "code",
      "source": [
        ""
      ],
      "metadata": {
        "id": "qd0bTx_FLN93"
      },
      "execution_count": null,
      "outputs": []
    },
    {
      "cell_type": "code",
      "source": [
        ""
      ],
      "metadata": {
        "id": "ecIFSU7fLN7a"
      },
      "execution_count": null,
      "outputs": []
    },
    {
      "cell_type": "code",
      "source": [
        ""
      ],
      "metadata": {
        "id": "C9Ax1k52LN5L"
      },
      "execution_count": null,
      "outputs": []
    },
    {
      "cell_type": "code",
      "source": [
        ""
      ],
      "metadata": {
        "id": "iZEXobVmLN21"
      },
      "execution_count": null,
      "outputs": []
    },
    {
      "cell_type": "code",
      "source": [
        ""
      ],
      "metadata": {
        "id": "WP_bzYc0LN0Y"
      },
      "execution_count": null,
      "outputs": []
    },
    {
      "cell_type": "code",
      "source": [
        ""
      ],
      "metadata": {
        "id": "OXulj_RPLNxy"
      },
      "execution_count": null,
      "outputs": []
    },
    {
      "cell_type": "code",
      "source": [
        ""
      ],
      "metadata": {
        "id": "c2cU0eIrLNvV"
      },
      "execution_count": null,
      "outputs": []
    },
    {
      "cell_type": "code",
      "source": [
        ""
      ],
      "metadata": {
        "id": "SszY8i4jLNtO"
      },
      "execution_count": null,
      "outputs": []
    }
  ]
}